{
 "cells": [
  {
   "cell_type": "markdown",
   "metadata": {},
   "source": [
    "# Geolocation Data\n",
    "\n",
    "Geospatial information is data that is referenced by spatial or geographic coordinates. The data that we will be working with in this lesson is vector data - features that are represented by points, lines, and polygons. <br>\n",
    " - **Points** are defined by a pair of (x,y) coordinates. They usually represent locations, place names, and other objects on the ground.\n",
    " - **Lines** are the connection between two points. They can have properties such as length, direction, flow, etc.\n",
    " - **Polygons** are a series of lines connected together to form a shape. They can have properties such as area, perimeters, and centroids. \n",
    " \n",
    "In this notebook, you will need to install the [geopandas](https://anaconda.org/conda-forge/geopandas) and [geoPy](https://anaconda.org/conda-forge/geopy) libraries. Also, download [this text file](https://automating-gis-processes.github.io/CSC18/_static/data/L3/addresses.txt) to use in the example code below."
   ]
  },
  {
   "cell_type": "code",
   "execution_count": null,
   "metadata": {
    "collapsed": true
   },
   "outputs": [],
   "source": [
    "import pandas as pd\n",
    "import geopandas as gpd #used for transforming geolocation data\n",
    "import matplotlib.pyplot as plt\n",
    "\n",
    "from datetime import datetime  #to convert data to datetime that does not fall within the pandas.to_datetime function timeframe\n",
    "from shapely.geometry import Point  #transform latitude/longitude to geo-coordinate data\n",
    "from geopandas.tools import geocode #get the latitude/longitude for a given address\n",
    "from geopandas.tools import reverse_geocode  #get the address for a location using latitude/longitude\n",
    "\n",
    "%matplotlib inline"
   ]
  },
  {
   "cell_type": "markdown",
   "metadata": {},
   "source": [
    "### Geocoding and Reverse Geocoding\n",
    "\n",
    "Geocoding is taking an address for a location and returning its latitudinal and longitudinal coordinates. Reverse geocoding would then be the opposite - taking the latitudinal and longitudinal coordinates for a location and returning the physical address."
   ]
  },
  {
   "cell_type": "code",
   "execution_count": null,
   "metadata": {},
   "outputs": [],
   "source": [
    "#take an address and return coordinates\n",
    "#returned variable is a geo-dataframe with 2 columns, geometry (the geographical shape) and the full physical address\n",
    "ex1_geo = geocode(\"12 South Summit Avenue, Gaithersburg, MD\", provider='nominatim')\n",
    "ex1_geo"
   ]
  },
  {
   "cell_type": "code",
   "execution_count": null,
   "metadata": {},
   "outputs": [],
   "source": [
    "#structure of full address\n",
    "#each API structures addresses differently\n",
    "ex1_geo['address'].iloc[0]"
   ]
  },
  {
   "cell_type": "code",
   "execution_count": null,
   "metadata": {},
   "outputs": [],
   "source": [
    "#use latitude and longitude to get physical address\n",
    "#pass through using Point geometry\n",
    "#also returns geo-dataframe with geometry and full physical address\n",
    "ex2_geo = reverse_geocode([Point(-77.15879730243169, 39.0985195)], provider='nominatim')\n",
    "ex2_geo"
   ]
  },
  {
   "cell_type": "markdown",
   "metadata": {},
   "source": [
    "#### Geocode a Dataframe column"
   ]
  },
  {
   "cell_type": "code",
   "execution_count": null,
   "metadata": {},
   "outputs": [],
   "source": [
    "#dataset of addresses in Finland\n",
    "location = \"datasets/addresses.txt\"\n",
    "\n",
    "#load data into dataframe\n",
    "#seperator between values in file is a semicolon\n",
    "finland_df = pd.read_csv(location, sep=\";\")\n",
    "finland_df.head()"
   ]
  },
  {
   "cell_type": "code",
   "execution_count": null,
   "metadata": {
    "collapsed": true
   },
   "outputs": [],
   "source": [
    "#geocode an entire column in a dataframe\n",
    "geo_addr = geocode(finland_df['addr'], provider='nominatim')"
   ]
  },
  {
   "cell_type": "code",
   "execution_count": null,
   "metadata": {},
   "outputs": [],
   "source": [
    "#first 5 rows of geo-dataframe of Finland addresses\n",
    "geo_addr.head()"
   ]
  },
  {
   "cell_type": "code",
   "execution_count": null,
   "metadata": {},
   "outputs": [],
   "source": [
    "#add the geometry column (coordinates) to the original dataframe \n",
    "finland_df['geo_addr'] = geo_addr['geometry']\n",
    "finland_df.head()"
   ]
  },
  {
   "cell_type": "markdown",
   "metadata": {},
   "source": [
    "### NASA Meteorite Landings\n",
    "\n",
    "At the end of your notebook for the NASA Meteorite data exercise, add a new cell with the code `df.to_csv(\"datasets/NASAmeteorite.csv\")`. Run that cell to create a csv file of your meteorite data to use in the following examples. Then [download the `continents.json` GeoJSON file](https://notebooks.azure.com/priesterkc/projects/DABmaterial/tree/Lv2%20Data%20Analytics) for the world map that will be charted."
   ]
  },
  {
   "cell_type": "code",
   "execution_count": null,
   "metadata": {
    "scrolled": true
   },
   "outputs": [],
   "source": [
    "#load meteorite data collected from NASA Open Data API\n",
    "meteor_df = pd.read_csv(\"datasets/NASAmeteorite.csv\")\n",
    "meteor_df.head()"
   ]
  },
  {
   "cell_type": "code",
   "execution_count": null,
   "metadata": {},
   "outputs": [],
   "source": [
    "#data type of each column\n",
    "meteor_df.dtypes"
   ]
  },
  {
   "cell_type": "code",
   "execution_count": null,
   "metadata": {
    "collapsed": true
   },
   "outputs": [],
   "source": [
    "#only dataframe with non-null year column values\n",
    "meteor_df = meteor_df.loc[meteor_df['year'].notnull()]\n",
    "\n",
    "#change year column into a string\n",
    "#need to use string type for getYear function below\n",
    "meteor_df['year'] = meteor_df['year'].astype(str)"
   ]
  },
  {
   "cell_type": "code",
   "execution_count": null,
   "metadata": {
    "collapsed": true
   },
   "outputs": [],
   "source": [
    "#function to split apart the date from the timestamp\n",
    "def getYear(col):\n",
    "    #get YYYY-MM-DD value\n",
    "    date = col.split(\"T\")[0]\n",
    "    \n",
    "    #extract year from date\n",
    "    dt = datetime.strptime(date, '%Y-%m-%d')\n",
    "    return dt.year"
   ]
  },
  {
   "cell_type": "code",
   "execution_count": null,
   "metadata": {
    "scrolled": true
   },
   "outputs": [],
   "source": [
    "#replace the year timestamp data with only the year (using the getYear function)\n",
    "meteor_df['year'] = meteor_df['year'].apply(getYear)\n",
    "meteor_df.head()"
   ]
  },
  {
   "cell_type": "code",
   "execution_count": null,
   "metadata": {},
   "outputs": [],
   "source": [
    "#see columns with null values\n",
    "meteor_df.count()"
   ]
  },
  {
   "cell_type": "code",
   "execution_count": null,
   "metadata": {},
   "outputs": [],
   "source": [
    "#only include rows with non-null latitudes (which means longitude is also not null) and non-null mass\n",
    "meteor_df = meteor_df.loc[(meteor_df['latitude'].notnull()) & meteor_df['mass'].notnull()]\n",
    "meteor_df.count()"
   ]
  },
  {
   "cell_type": "code",
   "execution_count": null,
   "metadata": {
    "collapsed": true
   },
   "outputs": [],
   "source": [
    "#make a new column to hold the longitude & latitude as a list\n",
    "meteor_df['coordinates'] = list(meteor_df[['longitude', 'latitude']].values)"
   ]
  },
  {
   "cell_type": "code",
   "execution_count": null,
   "metadata": {
    "scrolled": true
   },
   "outputs": [],
   "source": [
    "#see new coordinates column\n",
    "meteor_df.head()"
   ]
  },
  {
   "cell_type": "code",
   "execution_count": null,
   "metadata": {},
   "outputs": [],
   "source": [
    "#list values in coordinates column is classified as object type\n",
    "meteor_df['coordinates'].dtypes"
   ]
  },
  {
   "cell_type": "code",
   "execution_count": null,
   "metadata": {
    "collapsed": true
   },
   "outputs": [],
   "source": [
    "#convert the coordinates to a geolocation type\n",
    "meteor_df['coordinates'] = meteor_df['coordinates'].apply(Point)"
   ]
  },
  {
   "cell_type": "code",
   "execution_count": null,
   "metadata": {
    "scrolled": true
   },
   "outputs": [],
   "source": [
    "#coordinates column now has POINT next to each coordinate pair value\n",
    "meteor_df.head()"
   ]
  },
  {
   "cell_type": "code",
   "execution_count": null,
   "metadata": {},
   "outputs": [],
   "source": [
    "#coordinates column with geolocation data is just a regular pandas Series type\n",
    "type(meteor_df['coordinates'])"
   ]
  },
  {
   "cell_type": "code",
   "execution_count": null,
   "metadata": {
    "collapsed": true
   },
   "outputs": [],
   "source": [
    "#create a geolocation dataframe type using the coordinates column as the geolocation data\n",
    "geo_meteor = gpd.GeoDataFrame(meteor_df, geometry='coordinates')"
   ]
  },
  {
   "cell_type": "code",
   "execution_count": null,
   "metadata": {},
   "outputs": [],
   "source": [
    "#geo-dataframe looks the same as regular dataframe\n",
    "geo_meteor.head()"
   ]
  },
  {
   "cell_type": "code",
   "execution_count": null,
   "metadata": {},
   "outputs": [],
   "source": [
    "#verify coordinates column is geolocation data type\n",
    "type(geo_meteor['coordinates'])"
   ]
  },
  {
   "cell_type": "code",
   "execution_count": null,
   "metadata": {},
   "outputs": [],
   "source": [
    "#import file that contains a world map shape polygons\n",
    "#will use to plot the coordinates of meteorite landings\n",
    "filepath = \"datasets/continents.json\"\n",
    "\n",
    "#data contains polygon shape coordinates for different map body types (continents, etc.)\n",
    "map_df = gpd.read_file(filepath)\n",
    "map_df.head()"
   ]
  },
  {
   "cell_type": "code",
   "execution_count": null,
   "metadata": {},
   "outputs": [],
   "source": [
    "#map graph\n",
    "map_df.plot()"
   ]
  },
  {
   "cell_type": "code",
   "execution_count": null,
   "metadata": {},
   "outputs": [],
   "source": [
    "#plot the coordinates (no map)\n",
    "geo_meteor.plot()"
   ]
  },
  {
   "cell_type": "code",
   "execution_count": null,
   "metadata": {},
   "outputs": [],
   "source": [
    "#plot coordinates on top of map graph\n",
    "\n",
    "#this is to set the size of the borders\n",
    "fig, ax = plt.subplots(1, figsize=(15,10))\n",
    "\n",
    "#this is the map\n",
    "basemap = map_df.plot(ax=ax)\n",
    "\n",
    "#plot coordinates on top of map graph\n",
    "geo_meteor.plot(ax=basemap, color='darkred', marker=\".\", markersize=10)\n",
    "\n",
    "#take off axis numbers\n",
    "ax.axis('off')\n",
    "\n",
    "#put title on map\n",
    "ax.set_title(\"NASA Meteorite Landings\", fontsize=25, fontweight=3)"
   ]
  }
 ],
 "metadata": {
  "kernelspec": {
   "display_name": "Python 3",
   "language": "python",
   "name": "python3"
  },
  "language_info": {
   "codemirror_mode": {
    "name": "ipython",
    "version": 3
   },
   "file_extension": ".py",
   "mimetype": "text/x-python",
   "name": "python",
   "nbconvert_exporter": "python",
   "pygments_lexer": "ipython3",
   "version": "3.6.2"
  }
 },
 "nbformat": 4,
 "nbformat_minor": 2
}
